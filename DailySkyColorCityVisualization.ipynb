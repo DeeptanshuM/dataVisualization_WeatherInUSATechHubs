{
 "cells": [
  {
   "cell_type": "markdown",
   "metadata": {},
   "source": [
    "Initial plan (or, to be buzzword-compliant, design-doc/outline/<most appropriate buzzword here>)\n",
    "\n",
    "1. Extract weather data for one city from the raw data file\n",
    "2. Calculate day of year from the year-month-day value\n",
    "3. Keep hourly data for what is, approximately, not night time\n",
    "4. For each hour of the day keep only the most commonly occurring weather description; discard other weather description data\n",
    "5. For each day keep only the most commonly occurring weather description; discard other weather description data\n",
    "6. Calculate rgb color of sky for each weather description\n",
    "7. Make bar chart of sky color where each bar represent one day of the year"
   ]
  },
  {
   "cell_type": "markdown",
   "metadata": {},
   "source": [
    "Note: this project is based on data from an [Open Database on Kaggle](https://www.kaggle.com/selfishgene/historical-hourly-weather-data#weather_description.csv) provided by [David Beniaguev](https://davidbeniaguev.com). Thank you David!"
   ]
  },
  {
   "cell_type": "code",
   "execution_count": 1,
   "metadata": {
    "collapsed": true
   },
   "outputs": [],
   "source": [
    "import pandas as pd"
   ]
  },
  {
   "cell_type": "markdown",
   "metadata": {},
   "source": [
    "### Extract weather data for one city from the raw data file at https://www.kaggle.com/selfishgene/historical-hourly-weather-data#weather_description.csv"
   ]
  },
  {
   "cell_type": "code",
   "execution_count": 2,
   "metadata": {
    "collapsed": true
   },
   "outputs": [],
   "source": [
    "# download 'weather_description.csv' from the link above to the same repository as your Jupyter Notebook\n",
    "dataFile='weather_description.csv'\n",
    "city='New York'\n",
    "datetime='datetime'"
   ]
  },
  {
   "cell_type": "code",
   "execution_count": 3,
   "metadata": {},
   "outputs": [
    {
     "data": {
      "text/html": [
       "<div>\n",
       "<style>\n",
       "    .dataframe thead tr:only-child th {\n",
       "        text-align: right;\n",
       "    }\n",
       "\n",
       "    .dataframe thead th {\n",
       "        text-align: left;\n",
       "    }\n",
       "\n",
       "    .dataframe tbody tr th {\n",
       "        vertical-align: top;\n",
       "    }\n",
       "</style>\n",
       "<table border=\"1\" class=\"dataframe\">\n",
       "  <thead>\n",
       "    <tr style=\"text-align: right;\">\n",
       "      <th></th>\n",
       "      <th>datetime</th>\n",
       "      <th>New York</th>\n",
       "    </tr>\n",
       "  </thead>\n",
       "  <tbody>\n",
       "    <tr>\n",
       "      <th>0</th>\n",
       "      <td>2012-10-01 12:00:00</td>\n",
       "      <td>NaN</td>\n",
       "    </tr>\n",
       "    <tr>\n",
       "      <th>1</th>\n",
       "      <td>2012-10-01 13:00:00</td>\n",
       "      <td>few clouds</td>\n",
       "    </tr>\n",
       "    <tr>\n",
       "      <th>2</th>\n",
       "      <td>2012-10-01 14:00:00</td>\n",
       "      <td>few clouds</td>\n",
       "    </tr>\n",
       "    <tr>\n",
       "      <th>3</th>\n",
       "      <td>2012-10-01 15:00:00</td>\n",
       "      <td>few clouds</td>\n",
       "    </tr>\n",
       "    <tr>\n",
       "      <th>4</th>\n",
       "      <td>2012-10-01 16:00:00</td>\n",
       "      <td>few clouds</td>\n",
       "    </tr>\n",
       "  </tbody>\n",
       "</table>\n",
       "</div>"
      ],
      "text/plain": [
       "              datetime    New York\n",
       "0  2012-10-01 12:00:00         NaN\n",
       "1  2012-10-01 13:00:00  few clouds\n",
       "2  2012-10-01 14:00:00  few clouds\n",
       "3  2012-10-01 15:00:00  few clouds\n",
       "4  2012-10-01 16:00:00  few clouds"
      ]
     },
     "execution_count": 3,
     "metadata": {},
     "output_type": "execute_result"
    }
   ],
   "source": [
    "# import hourly weather descriptions\n",
    "df_WeatherDescription = pd.read_csv(dataFile, usecols=[datetime, city], parse_dates = True)\n",
    "df_WeatherDescription.head()"
   ]
  },
  {
   "cell_type": "code",
   "execution_count": 4,
   "metadata": {},
   "outputs": [
    {
     "data": {
      "text/html": [
       "<div>\n",
       "<style>\n",
       "    .dataframe thead tr:only-child th {\n",
       "        text-align: right;\n",
       "    }\n",
       "\n",
       "    .dataframe thead th {\n",
       "        text-align: left;\n",
       "    }\n",
       "\n",
       "    .dataframe tbody tr th {\n",
       "        vertical-align: top;\n",
       "    }\n",
       "</style>\n",
       "<table border=\"1\" class=\"dataframe\">\n",
       "  <thead>\n",
       "    <tr style=\"text-align: right;\">\n",
       "      <th></th>\n",
       "      <th>datetime</th>\n",
       "      <th>weather</th>\n",
       "    </tr>\n",
       "  </thead>\n",
       "  <tbody>\n",
       "    <tr>\n",
       "      <th>1</th>\n",
       "      <td>2012-10-01 13:00:00</td>\n",
       "      <td>few clouds</td>\n",
       "    </tr>\n",
       "    <tr>\n",
       "      <th>2</th>\n",
       "      <td>2012-10-01 14:00:00</td>\n",
       "      <td>few clouds</td>\n",
       "    </tr>\n",
       "    <tr>\n",
       "      <th>3</th>\n",
       "      <td>2012-10-01 15:00:00</td>\n",
       "      <td>few clouds</td>\n",
       "    </tr>\n",
       "    <tr>\n",
       "      <th>4</th>\n",
       "      <td>2012-10-01 16:00:00</td>\n",
       "      <td>few clouds</td>\n",
       "    </tr>\n",
       "    <tr>\n",
       "      <th>5</th>\n",
       "      <td>2012-10-01 17:00:00</td>\n",
       "      <td>few clouds</td>\n",
       "    </tr>\n",
       "  </tbody>\n",
       "</table>\n",
       "</div>"
      ],
      "text/plain": [
       "              datetime     weather\n",
       "1  2012-10-01 13:00:00  few clouds\n",
       "2  2012-10-01 14:00:00  few clouds\n",
       "3  2012-10-01 15:00:00  few clouds\n",
       "4  2012-10-01 16:00:00  few clouds\n",
       "5  2012-10-01 17:00:00  few clouds"
      ]
     },
     "execution_count": 4,
     "metadata": {},
     "output_type": "execute_result"
    }
   ],
   "source": [
    "df_WeatherDescription.rename(columns={'New York': 'weather'}, inplace=True)\n",
    "df_WeatherDescription.dropna(inplace = True)\n",
    "df_WeatherDescription.head()"
   ]
  },
  {
   "cell_type": "markdown",
   "metadata": {},
   "source": [
    "### Extract day of year and the hour of the day from the datetime timestamp"
   ]
  },
  {
   "cell_type": "code",
   "execution_count": 5,
   "metadata": {},
   "outputs": [
    {
     "data": {
      "text/html": [
       "<div>\n",
       "<style>\n",
       "    .dataframe thead tr:only-child th {\n",
       "        text-align: right;\n",
       "    }\n",
       "\n",
       "    .dataframe thead th {\n",
       "        text-align: left;\n",
       "    }\n",
       "\n",
       "    .dataframe tbody tr th {\n",
       "        vertical-align: top;\n",
       "    }\n",
       "</style>\n",
       "<table border=\"1\" class=\"dataframe\">\n",
       "  <thead>\n",
       "    <tr style=\"text-align: right;\">\n",
       "      <th></th>\n",
       "      <th>datetime</th>\n",
       "      <th>weather</th>\n",
       "      <th>day_number</th>\n",
       "      <th>hour_time</th>\n",
       "    </tr>\n",
       "  </thead>\n",
       "  <tbody>\n",
       "    <tr>\n",
       "      <th>1</th>\n",
       "      <td>2012-10-01 13:00:00</td>\n",
       "      <td>few clouds</td>\n",
       "      <td>275</td>\n",
       "      <td>13</td>\n",
       "    </tr>\n",
       "    <tr>\n",
       "      <th>2</th>\n",
       "      <td>2012-10-01 14:00:00</td>\n",
       "      <td>few clouds</td>\n",
       "      <td>275</td>\n",
       "      <td>14</td>\n",
       "    </tr>\n",
       "    <tr>\n",
       "      <th>3</th>\n",
       "      <td>2012-10-01 15:00:00</td>\n",
       "      <td>few clouds</td>\n",
       "      <td>275</td>\n",
       "      <td>15</td>\n",
       "    </tr>\n",
       "    <tr>\n",
       "      <th>4</th>\n",
       "      <td>2012-10-01 16:00:00</td>\n",
       "      <td>few clouds</td>\n",
       "      <td>275</td>\n",
       "      <td>16</td>\n",
       "    </tr>\n",
       "    <tr>\n",
       "      <th>5</th>\n",
       "      <td>2012-10-01 17:00:00</td>\n",
       "      <td>few clouds</td>\n",
       "      <td>275</td>\n",
       "      <td>17</td>\n",
       "    </tr>\n",
       "  </tbody>\n",
       "</table>\n",
       "</div>"
      ],
      "text/plain": [
       "             datetime     weather  day_number  hour_time\n",
       "1 2012-10-01 13:00:00  few clouds         275         13\n",
       "2 2012-10-01 14:00:00  few clouds         275         14\n",
       "3 2012-10-01 15:00:00  few clouds         275         15\n",
       "4 2012-10-01 16:00:00  few clouds         275         16\n",
       "5 2012-10-01 17:00:00  few clouds         275         17"
      ]
     },
     "execution_count": 5,
     "metadata": {},
     "output_type": "execute_result"
    }
   ],
   "source": [
    "# type(df_WeatherDescription.datetime) is pandas.core.series.Series\n",
    "# convert it to datetime https://pandas.pydata.org/pandas-docs/stable/user_guide/timeseries.html\n",
    "df_WeatherDescription.datetime = pd.to_datetime(df_WeatherDescription.datetime)\n",
    "\n",
    "# https://stackoverflow.com/questions/28990256/python-pandas-time-series-year-extraction\n",
    "df_WeatherDescription[\"day_number\"] = df_WeatherDescription.datetime.dt.dayofyear\n",
    "df_WeatherDescription[\"hour_time\"] = df_WeatherDescription.datetime.dt.hour\n",
    "df_WeatherDescription.head()"
   ]
  },
  {
   "cell_type": "code",
   "execution_count": 6,
   "metadata": {},
   "outputs": [
    {
     "data": {
      "text/plain": [
       "366"
      ]
     },
     "execution_count": 6,
     "metadata": {},
     "output_type": "execute_result"
    }
   ],
   "source": [
    "# sanity check\n",
    "df_WeatherDescription.day_number.nunique()"
   ]
  },
  {
   "cell_type": "markdown",
   "metadata": {},
   "source": [
    "### Calculate rgb color of sky for each weather description\n",
    "\n",
    "To do this I listed all distinct weather description in the Jupyter Notebook. I then wrote a json file (you can use any text editor, in I used vim) that had key-value pairs of the weather description and rgb color values as follows:\n",
    "\n",
    " ```\n",
    " {\n",
    "   \"<some weather description>\":\"rgb(val1,val2,val3)\",\n",
    "   .\n",
    "   .\n",
    "   .\n",
    " }\n",
    " ```\n",
    " \n",
    " The file needs to saved with the extension `.json`. \n",
    " \n",
    " I calculated the rgb values using my mac's Digital Color Meter. I searched on Google Images for each distinct weather description listed below (except for thunderstorms, I repeated the rgb values for those) and then used the Digital Color Meter to record the rgb value of the color of the sky from a relevant image search result. The process was extremely tedious.\n",
    " \n",
    "This method of finding the rgb values is subjective and inefficient, however, it is also perfectly adequate."
   ]
  },
  {
   "cell_type": "code",
   "execution_count": 7,
   "metadata": {},
   "outputs": [
    {
     "data": {
      "text/plain": [
       "array(['few clouds', 'sky is clear', 'scattered clouds', 'broken clouds',\n",
       "       'overcast clouds', 'mist', 'drizzle', 'moderate rain',\n",
       "       'light intensity drizzle', 'light rain', 'fog', 'haze',\n",
       "       'heavy snow', 'heavy intensity drizzle', 'heavy intensity rain',\n",
       "       'light rain and snow', 'snow', 'light snow', 'freezing rain',\n",
       "       'proximity thunderstorm', 'thunderstorm', 'thunderstorm with rain',\n",
       "       'smoke', 'very heavy rain', 'thunderstorm with heavy rain',\n",
       "       'thunderstorm with light rain', 'squalls', 'dust',\n",
       "       'proximity thunderstorm with rain',\n",
       "       'thunderstorm with light drizzle', 'sand', 'shower rain',\n",
       "       'proximity thunderstorm with drizzle',\n",
       "       'light intensity shower rain', 'sand/dust whirls',\n",
       "       'heavy thunderstorm'], dtype=object)"
      ]
     },
     "execution_count": 7,
     "metadata": {},
     "output_type": "execute_result"
    }
   ],
   "source": [
    "df_WeatherDescription.weather.unique()"
   ]
  },
  {
   "cell_type": "markdown",
   "metadata": {},
   "source": [
    "### Keep only the most frequently occurring weather data for each day of the year"
   ]
  },
  {
   "cell_type": "code",
   "execution_count": 8,
   "metadata": {},
   "outputs": [
    {
     "data": {
      "text/html": [
       "<div>\n",
       "<style>\n",
       "    .dataframe thead tr:only-child th {\n",
       "        text-align: right;\n",
       "    }\n",
       "\n",
       "    .dataframe thead th {\n",
       "        text-align: left;\n",
       "    }\n",
       "\n",
       "    .dataframe tbody tr th {\n",
       "        vertical-align: top;\n",
       "    }\n",
       "</style>\n",
       "<table border=\"1\" class=\"dataframe\">\n",
       "  <thead>\n",
       "    <tr style=\"text-align: right;\">\n",
       "      <th></th>\n",
       "      <th>weather</th>\n",
       "      <th>day_number</th>\n",
       "      <th>hour_time</th>\n",
       "    </tr>\n",
       "  </thead>\n",
       "  <tbody>\n",
       "    <tr>\n",
       "      <th>1</th>\n",
       "      <td>few clouds</td>\n",
       "      <td>275</td>\n",
       "      <td>13</td>\n",
       "    </tr>\n",
       "    <tr>\n",
       "      <th>2</th>\n",
       "      <td>few clouds</td>\n",
       "      <td>275</td>\n",
       "      <td>14</td>\n",
       "    </tr>\n",
       "    <tr>\n",
       "      <th>3</th>\n",
       "      <td>few clouds</td>\n",
       "      <td>275</td>\n",
       "      <td>15</td>\n",
       "    </tr>\n",
       "    <tr>\n",
       "      <th>4</th>\n",
       "      <td>few clouds</td>\n",
       "      <td>275</td>\n",
       "      <td>16</td>\n",
       "    </tr>\n",
       "    <tr>\n",
       "      <th>5</th>\n",
       "      <td>few clouds</td>\n",
       "      <td>275</td>\n",
       "      <td>17</td>\n",
       "    </tr>\n",
       "  </tbody>\n",
       "</table>\n",
       "</div>"
      ],
      "text/plain": [
       "      weather  day_number  hour_time\n",
       "1  few clouds         275         13\n",
       "2  few clouds         275         14\n",
       "3  few clouds         275         15\n",
       "4  few clouds         275         16\n",
       "5  few clouds         275         17"
      ]
     },
     "execution_count": 8,
     "metadata": {},
     "output_type": "execute_result"
    }
   ],
   "source": [
    "# datetime timestamp is not needed anymore\n",
    "df_WeatherDescription.drop([\"datetime\"], axis=1, inplace=True)\n",
    "\n",
    "# we don't need to consider the weather description after sunset or before sunrise\n",
    "df_WeatherDescription = df_WeatherDescription[(df_WeatherDescription[\"hour_time\"] >= 5) & (df_WeatherDescription[\"hour_time\"] <= 21)]\n",
    "\n",
    "df_WeatherDescription.head()"
   ]
  },
  {
   "cell_type": "code",
   "execution_count": 9,
   "metadata": {},
   "outputs": [
    {
     "data": {
      "text/html": [
       "<div>\n",
       "<style>\n",
       "    .dataframe thead tr:only-child th {\n",
       "        text-align: right;\n",
       "    }\n",
       "\n",
       "    .dataframe thead th {\n",
       "        text-align: left;\n",
       "    }\n",
       "\n",
       "    .dataframe tbody tr th {\n",
       "        vertical-align: top;\n",
       "    }\n",
       "</style>\n",
       "<table border=\"1\" class=\"dataframe\">\n",
       "  <thead>\n",
       "    <tr style=\"text-align: right;\">\n",
       "      <th></th>\n",
       "      <th>day_number</th>\n",
       "      <th>hour_time</th>\n",
       "      <th>weather</th>\n",
       "    </tr>\n",
       "  </thead>\n",
       "  <tbody>\n",
       "    <tr>\n",
       "      <th>0</th>\n",
       "      <td>1</td>\n",
       "      <td>5</td>\n",
       "      <td>sky is clear</td>\n",
       "    </tr>\n",
       "    <tr>\n",
       "      <th>1</th>\n",
       "      <td>1</td>\n",
       "      <td>6</td>\n",
       "      <td>sky is clear</td>\n",
       "    </tr>\n",
       "    <tr>\n",
       "      <th>2</th>\n",
       "      <td>1</td>\n",
       "      <td>7</td>\n",
       "      <td>sky is clear</td>\n",
       "    </tr>\n",
       "    <tr>\n",
       "      <th>3</th>\n",
       "      <td>1</td>\n",
       "      <td>8</td>\n",
       "      <td>overcast clouds</td>\n",
       "    </tr>\n",
       "    <tr>\n",
       "      <th>4</th>\n",
       "      <td>1</td>\n",
       "      <td>9</td>\n",
       "      <td>overcast clouds</td>\n",
       "    </tr>\n",
       "  </tbody>\n",
       "</table>\n",
       "</div>"
      ],
      "text/plain": [
       "   day_number  hour_time          weather\n",
       "0           1          5     sky is clear\n",
       "1           1          6     sky is clear\n",
       "2           1          7     sky is clear\n",
       "3           1          8  overcast clouds\n",
       "4           1          9  overcast clouds"
      ]
     },
     "execution_count": 9,
     "metadata": {},
     "output_type": "execute_result"
    }
   ],
   "source": [
    "# on any given day for any given hour consider only the most frequently occurring weather description\n",
    "df_WeatherDescription = df_WeatherDescription.groupby(['day_number', 'hour_time'])['weather'].apply(lambda x: x.mode()[0]).reset_index()\n",
    "df_WeatherDescription.head()"
   ]
  },
  {
   "cell_type": "code",
   "execution_count": 10,
   "metadata": {},
   "outputs": [
    {
     "data": {
      "text/html": [
       "<div>\n",
       "<style>\n",
       "    .dataframe thead tr:only-child th {\n",
       "        text-align: right;\n",
       "    }\n",
       "\n",
       "    .dataframe thead th {\n",
       "        text-align: left;\n",
       "    }\n",
       "\n",
       "    .dataframe tbody tr th {\n",
       "        vertical-align: top;\n",
       "    }\n",
       "</style>\n",
       "<table border=\"1\" class=\"dataframe\">\n",
       "  <thead>\n",
       "    <tr style=\"text-align: right;\">\n",
       "      <th></th>\n",
       "      <th>weather</th>\n",
       "    </tr>\n",
       "    <tr>\n",
       "      <th>day_number</th>\n",
       "      <th></th>\n",
       "    </tr>\n",
       "  </thead>\n",
       "  <tbody>\n",
       "    <tr>\n",
       "      <th>1</th>\n",
       "      <td>sky is clear</td>\n",
       "    </tr>\n",
       "    <tr>\n",
       "      <th>2</th>\n",
       "      <td>sky is clear</td>\n",
       "    </tr>\n",
       "    <tr>\n",
       "      <th>3</th>\n",
       "      <td>broken clouds</td>\n",
       "    </tr>\n",
       "    <tr>\n",
       "      <th>4</th>\n",
       "      <td>broken clouds</td>\n",
       "    </tr>\n",
       "    <tr>\n",
       "      <th>5</th>\n",
       "      <td>sky is clear</td>\n",
       "    </tr>\n",
       "  </tbody>\n",
       "</table>\n",
       "</div>"
      ],
      "text/plain": [
       "                  weather\n",
       "day_number               \n",
       "1            sky is clear\n",
       "2            sky is clear\n",
       "3           broken clouds\n",
       "4           broken clouds\n",
       "5            sky is clear"
      ]
     },
     "execution_count": 10,
     "metadata": {},
     "output_type": "execute_result"
    }
   ],
   "source": [
    "# on any given day consider only the most frequently occurring weather description\n",
    "df_WeatherDescription = df_WeatherDescription.groupby(['day_number'])['weather'].apply(lambda x: x.mode()[0]).reset_index()\n",
    "df_WeatherDescription.set_index('day_number', inplace=True)\n",
    "df_WeatherDescription.head()"
   ]
  },
  {
   "cell_type": "code",
   "execution_count": null,
   "metadata": {
    "collapsed": true
   },
   "outputs": [],
   "source": []
  }
 ],
 "metadata": {
  "kernelspec": {
   "display_name": "Python 3",
   "language": "python",
   "name": "python3"
  },
  "language_info": {
   "codemirror_mode": {
    "name": "ipython",
    "version": 3
   },
   "file_extension": ".py",
   "mimetype": "text/x-python",
   "name": "python",
   "nbconvert_exporter": "python",
   "pygments_lexer": "ipython3",
   "version": "3.6.8"
  }
 },
 "nbformat": 4,
 "nbformat_minor": 2
}
