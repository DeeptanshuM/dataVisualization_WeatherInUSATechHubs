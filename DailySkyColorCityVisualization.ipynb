{
 "cells": [
  {
   "cell_type": "markdown",
   "metadata": {},
   "source": [
    "Initial plan (or, to be buzzword-compliant, design-doc/outline/<most appropriate buzzword here>)\n",
    "\n",
    "1. Extract weather date for one city from the raw data file\n",
    "2. Calculate day of year from the year-month-day value\n",
    "3. Keep hourly data for what is, approximately, not night time\n",
    "4. For each hour of the day keep only the most commonly occurring weather description; discard other weather description data\n",
    "5. For each day keep only the most commonly occurring weather description; discard other weather description data\n",
    "6. Calculate rgb color of sky for weather description.\n",
    "7. Make data visualization for 365 days.\n",
    "8. Repeat for other cities."
   ]
  }
 ],
 "metadata": {
  "kernelspec": {
   "display_name": "Python 3",
   "language": "python",
   "name": "python3"
  },
  "language_info": {
   "codemirror_mode": {
    "name": "ipython",
    "version": 3
   },
   "file_extension": ".py",
   "mimetype": "text/x-python",
   "name": "python",
   "nbconvert_exporter": "python",
   "pygments_lexer": "ipython3",
   "version": "3.6.8"
  }
 },
 "nbformat": 4,
 "nbformat_minor": 2
}
